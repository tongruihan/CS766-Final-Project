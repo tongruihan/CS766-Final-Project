{
 "cells": [
  {
   "cell_type": "code",
   "execution_count": 1,
   "metadata": {},
   "outputs": [],
   "source": [
    "import xml.etree.ElementTree as ET\n",
    "import pickle\n",
    "import os\n",
    "from os import listdir, getcwd\n",
    "from os.path import join\n",
    "from PIL import Image\n",
    "\n",
    "sets=['train','val']\n",
    "\n",
    "classes = [\"face_mask\",\"face\"]\n",
    "\n",
    "def convert(size, box):\n",
    "    dw = 1./size[0]\n",
    "    dh = 1./size[1]\n",
    "    x = (box[0] + box[1])/2.0\n",
    "    y = (box[2] + box[3])/2.0\n",
    "    w = box[1] - box[0]\n",
    "    h = box[3] - box[2]\n",
    "    x = x*dw\n",
    "    w = w*dw\n",
    "    y = y*dh\n",
    "    h = h*dh\n",
    "    return (x,y,w,h)\n",
    "\n",
    "def convert_annotation(setType, imageID):\n",
    "    flag=0\n",
    "    in_file = open('FaceMaskDataset/%s/Annotations/%s.xml'%(setType, image_id))\n",
    "    \n",
    "    tree=ET.parse(in_file)\n",
    "    root = tree.getroot()\n",
    "    \n",
    "    size = root.find('size')\n",
    "    \n",
    "    if size==None or int(size.find('width').text)==0 or int(size.find('height').text)==0:\n",
    "        img = Image.open('FaceMaskDataset/%s/Images/%s.jpg'%(setType, image_id))\n",
    "        w=img.size[0]\n",
    "        h=img.size[1]\n",
    "    else:\n",
    "        w = int(size.find('width').text)\n",
    "        h = int(size.find('height').text)\n",
    "        \n",
    "    writeContent=\"\"\n",
    "\n",
    "    for obj in root.iter('object'):\n",
    "        difficult = obj.find('difficult').text\n",
    "        cls = obj.find('name').text\n",
    "        if cls not in classes or int(difficult) == 1:\n",
    "            continue\n",
    "       \n",
    "        flag=1\n",
    "        cls_id = classes.index(cls)+1\n",
    "        xmlbox = obj.find('bndbox')\n",
    "        b = (float(xmlbox.find('xmin').text), float(xmlbox.find('xmax').text), float(xmlbox.find('ymin').text), float(xmlbox.find('ymax').text))\n",
    "        bb = convert((w,h), b)\n",
    "        writeContent=writeContent+str(cls_id) + \" \" + \" \".join([str(a) for a in bb]) + '\\n'\n",
    "\n",
    "    if flag==1:\n",
    "        out_file = open('FaceMaskDataset/%s/Images/%s.txt'%(setType, image_id), 'w')\n",
    "        out_file.write(writeContent)\n",
    "        \n",
    "    return flag\n",
    "\n",
    "        \n",
    "def getFileID(file_dir):   \n",
    "    L=[]   \n",
    "    for file in os.listdir(file_dir):\n",
    "        fileNameM,ext=os.path.splitext(file)\n",
    "        if ext==\".jpg\":\n",
    "            L.append(fileNameM)\n",
    "    return L  \n",
    "        \n",
    "        \n",
    "wd = getcwd()\n",
    "\n",
    "for setType in sets:\n",
    "    if not os.path.exists('FaceMaskDataset/%s/labels/'%(setType)):\n",
    "        os.makedirs('FaceMaskDataset/%s/labels/'%(setType))\n",
    "    image_ids = getFileID('FaceMaskDataset/%s/Images/'%(setType))\n",
    "    list_file = open('%s.txt'%(setType), 'w')\n",
    "    for image_id in image_ids:\n",
    "        flag=convert_annotation(setType, image_id)\n",
    "        if flag==1:\n",
    "            name=wd+'/FaceMaskDataset/'+setType+'/Images/'+image_id+'.jpg\\n'\n",
    "            list_file.write(name)\n",
    "    list_file.close()\n",
    "\n",
    "\n",
    "\n"
   ]
  },
  {
   "cell_type": "code",
   "execution_count": 20,
   "metadata": {},
   "outputs": [
    {
     "name": "stdout",
     "output_type": "stream",
     "text": [
      "JPEG\n",
      "1024\n"
     ]
    }
   ],
   "source": [
    "import os\n",
    "from PIL import Image\n",
    "\n",
    "img = Image.open('FaceMaskDataset/train/Images/1_Handshaking_Handshaking_1_42.jpg')\n",
    "\n",
    "print(img.format)       # PNG\n",
    "print(img.size[0])          # (3500, 3500)\n"
   ]
  },
  {
   "cell_type": "code",
   "execution_count": 2,
   "metadata": {},
   "outputs": [
    {
     "data": {
      "text/plain": [
       "['face_mask', 'face', 'face_nask']"
      ]
     },
     "execution_count": 2,
     "metadata": {},
     "output_type": "execute_result"
    }
   ],
   "source": [
    "classes"
   ]
  },
  {
   "cell_type": "code",
   "execution_count": null,
   "metadata": {},
   "outputs": [],
   "source": [
    "import os  \n",
    "def file_name(file_dir):   \n",
    "    L=[]   \n",
    "    for root, dirs, files in os.walk(file_dir):  \n",
    "        for file in files:  \n",
    "            if os.path.splitext(file)[1] == '.jpeg':  \n",
    "                L.append(os.path.join(root, file))  \n",
    "    return L  "
   ]
  }
 ],
 "metadata": {
  "kernelspec": {
   "display_name": "Python 3",
   "language": "python",
   "name": "python3"
  },
  "language_info": {
   "codemirror_mode": {
    "name": "ipython",
    "version": 3
   },
   "file_extension": ".py",
   "mimetype": "text/x-python",
   "name": "python",
   "nbconvert_exporter": "python",
   "pygments_lexer": "ipython3",
   "version": "3.7.4"
  }
 },
 "nbformat": 4,
 "nbformat_minor": 2
}
