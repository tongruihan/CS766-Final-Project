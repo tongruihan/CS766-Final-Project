{
 "cells": [
  {
   "cell_type": "markdown",
   "metadata": {},
   "source": [
    "# Unused code"
   ]
  },
  {
   "cell_type": "code",
   "execution_count": 19,
   "metadata": {},
   "outputs": [],
   "source": [
    "import pandas as pd\n",
    "graph=pd.read_csv('graph.csv')"
   ]
  },
  {
   "cell_type": "markdown",
   "metadata": {},
   "source": [
    "# Draw for loss"
   ]
  },
  {
   "cell_type": "code",
   "execution_count": 597,
   "metadata": {},
   "outputs": [
    {
     "name": "stdout",
     "output_type": "stream",
     "text": [
      "['608', '480', '576', '352', '544', '416', '512', '320', '384', '448']\n"
     ]
    }
   ],
   "source": [
    "import re,math\n",
    "\n",
    "\n",
    "size=[]\n",
    "lossDic={}\n",
    "\n",
    "totalLoss=[]\n",
    "totalBatch=[]\n",
    "\n",
    "with open(\"results.txt\", \"r\") as f:\n",
    "    data = f.readlines()\n",
    "\n",
    "for i in range(0,len(data)):\n",
    "    line = data[i].strip('\\n')\n",
    "    if line.startswith(\"Resizing\"):\n",
    "        size.append(data[i+1].strip('\\n'))\n",
    "\n",
    "size=list(set(size))     \n",
    "\n",
    "for i in range(0,len(size)):\n",
    "    lossDic[size[i]]={'loss':[],'batch':[]}\n",
    "\n",
    "\n",
    "for i in range(0,len(data)):\n",
    "    line = data[i].strip('\\n')\n",
    "    if line.startswith(\"Resizing\"):\n",
    "        batch=lossDic[data[i+1].strip('\\n')]['batch']\n",
    "        loss=lossDic[data[i+1].strip('\\n')]['loss']\n",
    "   \n",
    "    res = re.match(\"\\d*:\", line)\n",
    "    if res:\n",
    "        totalBatch.append(int(line.split(\":\")[0]))\n",
    "        totalLoss.append(math.log(float(line.split(\":\")[1].split(\",\")[1].strip().strip(' avg')),10))\n",
    "        \n",
    "        batch.append(int(line.split(\":\")[0]))\n",
    "        loss.append(math.log(float(line.split(\":\")[1].split(\",\")[0].strip()),10))\n",
    "\n",
    "\n",
    "print(size)"
   ]
  },
  {
   "cell_type": "code",
   "execution_count": 601,
   "metadata": {},
   "outputs": [
    {
     "name": "stdout",
     "output_type": "stream",
     "text": [
      "ignore\n"
     ]
    },
    {
     "data": {
      "image/png": "[encoded data removed]",
      "text/plain": [
       "<Figure size 576x432 with 1 Axes>"
      ]
     },
     "metadata": {
      "needs_background": "light"
     },
     "output_type": "display_data"
    }
   ],
   "source": [
    "import matplotlib.pyplot as plt\n",
    "from IPython.core.pylabtools import figsize\n",
    "figsize(8, 6) \n",
    "for i in range(0,len(size)):\n",
    "    if i==6:\n",
    "        print(\"ignore\")\n",
    "    \n",
    "        #plt.plot(lossDic[size[i]]['batch'],lossDic[size[i]]['loss'],lineWidth=0.5,label='Image size='+size[i]) \n",
    "\n",
    "plt.plot(totalBatch,totalLoss,lineWidth=0.5,label='Image')\n",
    "\n",
    "plt.xlabel('#Batch', fontsize=18) \n",
    "plt.ylabel('log(Loss)', fontsize=18) \n",
    "#plt.legend(loc='upper right', fontsize=10, frameon=True, fancybox=True, framealpha=0.2, borderpad=0.3,\n",
    "           #ncol=1, markerfirst=True, markerscale=1, numpoints=1, handlelength=3.5)\n",
    "plt.savefig('./yoloTrain.jpg')\n",
    "plt.show()"
   ]
  },
  {
   "cell_type": "markdown",
   "metadata": {},
   "source": [
    "# Draw for Acc"
   ]
  },
  {
   "cell_type": "code",
   "execution_count": 560,
   "metadata": {},
   "outputs": [],
   "source": [
    "import math\n"
   ]
  },
  {
   "cell_type": "code",
   "execution_count": 561,
   "metadata": {},
   "outputs": [],
   "source": [
    "def recallCal(threshold):\n",
    "\n",
    "    correctType1=0\n",
    "    correctType2=0\n",
    "    misClass1to2=0\n",
    "    misClass2to1=0\n",
    "    unRecognize1=0\n",
    "    unRecognize2=0\n",
    "\n",
    "\n",
    "    for i in range(0,len(groundTruth)):\n",
    "        for j in range(0,len(groundTruth[i])):\n",
    "            if groundTruth[i][j]['type']==1:\n",
    "                if groundTruth[i][j]['confidence']>=threshold:\n",
    "                    if groundTruth[i][j]['predict']==1:\n",
    "                        correctType1=correctType1+1\n",
    "                    elif groundTruth[i][j]['predict']==2:\n",
    "                        misClass1to2=misClass1to2+1\n",
    "                    else:\n",
    "                        unRecognize1=unRecognize1+1\n",
    "                else:\n",
    "                    unRecognize1=unRecognize1+1\n",
    "\n",
    "            if groundTruth[i][j]['type']==2:\n",
    "                if groundTruth[i][j]['confidence']>=threshold:\n",
    "                    if groundTruth[i][j]['predict']==2:\n",
    "                        correctType2=correctType2+1\n",
    "                    elif groundTruth[i][j]['predict']==1:\n",
    "                        misClass2to1=misClass2to1+1\n",
    "                    else:\n",
    "                        unRecognize2=unRecognize2+1\n",
    "                else:\n",
    "                    unRecognize2=unRecognize2+1\n",
    "\n",
    "    recall={'correctType1':correctType1,'correctType2':correctType2,'misClass1to2':misClass1to2,'misClass2to1':misClass2to1,'unRecognize1':unRecognize1,'unRecognize2':unRecognize2}\n",
    "\n",
    "    #print('correctType1:',correctType1)\n",
    "    #print('correctType2:',correctType2)\n",
    "    #print('misClass1to2:',misClass1to2)\n",
    "    #print('misClass2to1:',misClass2to1)\n",
    "    #print('unRecognize1:',unRecognize1)\n",
    "    #print('unRecognize2:',unRecognize2)\n",
    "    \n",
    "    return recall\n",
    "\n",
    "def precisionCal(threshold):\n",
    "\n",
    "\n",
    "    correctType1=0\n",
    "    correctType2=0\n",
    "    misClass1to2=0\n",
    "    misClass2to1=0\n",
    "    wrongAdd1=0\n",
    "    wrongAdd2=0\n",
    "\n",
    "    for i in range(0,len(predict)):\n",
    "        for j in range(0,len(predict[i])):\n",
    "            if predict[i][j]['type']==1:\n",
    "                if predict[i][j]['confidence']>=threshold:\n",
    "                    if predict[i][j]['groundTruth']==1:\n",
    "                        correctType1=correctType1+1\n",
    "                    elif predict[i][j]['groundTruth']==2:\n",
    "                        misClass2to1=misClass1to2+1\n",
    "                    else:\n",
    "                        wrongAdd1=wrongAdd1+1\n",
    "\n",
    "\n",
    "            if predict[i][j]['type']==2:\n",
    "                if predict[i][j]['confidence']>=threshold:\n",
    "                    if predict[i][j]['groundTruth']==2:\n",
    "                        correctType2=correctType2+1\n",
    "                    elif predict[i][j]['groundTruth']==1:\n",
    "                        misClass1to2=misClass2to1+1\n",
    "                    else:\n",
    "                        wrongAdd2=wrongAdd2+1\n",
    "\n",
    "    precision={'correctType1':correctType1,'correctType2':correctType2,'misClass1to2':misClass1to2,'misClass2to1':misClass2to1,'wrongAdd1':wrongAdd1,'wrongAdd2':wrongAdd2}\n",
    "\n",
    "    #print('correctType1:',correctType1)\n",
    "    #print('correctType2:',correctType2)\n",
    "    #print('misClass1to2:',misClass1to2)\n",
    "    #print('misClass2to1:',misClass2to1)\n",
    "    #print('wrongAdd1:',wrongAdd1)\n",
    "    #print('wrongAdd2:',wrongAdd2)\n",
    "    \n",
    "    return precision\n",
    "\n",
    "\n",
    "def checkSameObject(groundTruthObj,predictedObj,checkLimit):\n",
    "    return (abs(groundTruthObj['position'][0]-predictedObj['position'][0])<=checkLimit and abs(groundTruthObj['position'][1]-predictedObj['position'][1])<=checkLimit)"
   ]
  },
  {
   "cell_type": "code",
   "execution_count": 562,
   "metadata": {},
   "outputs": [],
   "source": [
    "def recallAllCal(threshold):\n",
    "\n",
    "    recognized1=0\n",
    "    recognized2=0\n",
    "    correctType1=0\n",
    "    correctType2=0\n",
    "    misClass1to2=0\n",
    "    misClass2to1=0\n",
    "    unRecognize1=0\n",
    "    unRecognize2=0\n",
    "\n",
    "\n",
    "    for i in range(0,len(groundTruth)):\n",
    "        for j in range(0,len(groundTruth[i])):\n",
    "            if groundTruth[i][j]['type']==1:\n",
    "                if groundTruth[i][j]['predict']!=0:\n",
    "                    recognized1=recognized1+1\n",
    "                    if groundTruth[i][j]['confidence']>=threshold and groundTruth[i][j]['predict']==1:\n",
    "                        correctType1=correctType1+1\n",
    "                    else:\n",
    "                        misClass1to2=misClass1to2+1       \n",
    "                else:\n",
    "                    unRecognize1=unRecognize1+1\n",
    "\n",
    "            if groundTruth[i][j]['type']==2:\n",
    "                if groundTruth[i][j]['predict']!=0:\n",
    "                    recognized2=recognized2+1\n",
    " \n",
    "                    if groundTruth[i][j]['confidence']>=threshold and groundTruth[i][j]['predict']==2:\n",
    "\n",
    "                        correctType2=correctType2+1\n",
    "                    else:\n",
    "                        misClass2to1=misClass2to1+1\n",
    "                else:\n",
    "                    unRecognize2=unRecognize2+1\n",
    "\n",
    "    recall={'recognized1':recognized1,'recognized2':recognized2,'correctType1':correctType1,'correctType2':correctType2,'misClass1to2':misClass1to2,'misClass2to1':misClass2to1,'unRecognize1':unRecognize1,'unRecognize2':unRecognize2}\n",
    "\n",
    "    #print('correctType1:',correctType1)\n",
    "    #print('correctType2:',correctType2)\n",
    "    #print('misClass1to2:',misClass1to2)\n",
    "    #print('misClass2to1:',misClass2to1)\n",
    "    #print('unRecognize1:',unRecognize1)\n",
    "    #print('unRecognize2:',unRecognize2)\n",
    "    \n",
    "    return recall"
   ]
  },
  {
   "cell_type": "code",
   "execution_count": 563,
   "metadata": {},
   "outputs": [],
   "source": [
    "def recallAllTogeCal(threshold):\n",
    "\n",
    "    recognized=0\n",
    "    unRecognize=0\n",
    "\n",
    "    correctType1=0\n",
    "    correctType2=0\n",
    "    misClass1to2=0\n",
    "    misClass2to1=0\n",
    "\n",
    "\n",
    "\n",
    "\n",
    "    for i in range(0,len(groundTruth)):\n",
    "        for j in range(0,len(groundTruth[i])):\n",
    "            if groundTruth[i][j]['predict']!=0:\n",
    "                recognized=recognized+1\n",
    "                \n",
    "                if groundTruth[i][j]['type']==1:\n",
    "                    if groundTruth[i][j]['confidence']>=threshold and groundTruth[i][j]['predict']==1:\n",
    "                        correctType1=correctType1+1\n",
    "                    else:\n",
    "                        misClass1to2=misClass1to2+1\n",
    "                if groundTruth[i][j]['type']==2:\n",
    "                    if groundTruth[i][j]['predict']==2:\n",
    "                        correctType2=correctType2+1\n",
    "                    else:\n",
    "                        misClass2to1=misClass2to1+1\n",
    "                    \n",
    "                    \n",
    "            else:\n",
    "                unRecognize=unRecognize+1\n",
    "                \n",
    "\n",
    "    recall={'recognized':recognized,'correctType1':correctType1,'correctType2':correctType2,'misClass1to2':misClass1to2,'misClass2to1':misClass2to1,'unRecognize':unRecognize}\n",
    "\n",
    "    #print('correctType1:',correctType1)\n",
    "    #print('correctType2:',correctType2)\n",
    "    #print('misClass1to2:',misClass1to2)\n",
    "    #print('misClass2to1:',misClass2to1)\n",
    "    #print('unRecognize1:',unRecognize1)\n",
    "    #print('unRecognize2:',unRecognize2)\n",
    "    \n",
    "    return recall"
   ]
  },
  {
   "cell_type": "code",
   "execution_count": 567,
   "metadata": {
    "scrolled": false
   },
   "outputs": [],
   "source": [
    "import os,json\n",
    "from PIL import Image\n",
    "\n",
    "trainDir=\"FaceMaskDataset/train/Images/\"\n",
    "valDir=\"FaceMaskDataset/val/Images/\"\n",
    "\n",
    "curDir=valDir\n",
    "checkLimit=0.05\n",
    "\n",
    "groundTruth=[]\n",
    "predict=[]\n",
    "\n",
    "files = os.listdir(curDir)\n",
    "for fileName in files:\n",
    "    fileNameM,ext=os.path.splitext(fileName)\n",
    "    if ext==\".txt\":\n",
    "        #print(fileNameM)\n",
    "        \n",
    "        im = Image.open(curDir+fileNameM+\".jpg\")\n",
    "        width=im.size[0]\n",
    "        height=im.size[1]\n",
    "        \n",
    "        \n",
    "        with open(curDir+fileName, \"r\") as f:\n",
    "            data = f.readlines()\n",
    "        \n",
    "        singleTruth=[]\n",
    "        for i in range(0,len(data)):\n",
    "            position=[]\n",
    "            line = data[i].strip('\\n')\n",
    "            elements=line.split(\" \")\n",
    "            #print(elements)\n",
    "            if elements[0]==' ' or elements[0]=='' or isinstance(elements[0],int):\n",
    "                classType=0\n",
    "                position=[]   \n",
    "            else:\n",
    "                classType=int(elements[0])\n",
    "\n",
    "                if classType !=1 and classType !=2:\n",
    "                    classType=0\n",
    "                    position=[]\n",
    "                else:\n",
    "                    if len(elements)>=5:\n",
    "\n",
    "                        position=[float(elements[1]),float(elements[2]),float(elements[3]),float(elements[4])]\n",
    "                    else:\n",
    "                        position=[]\n",
    "           \n",
    "            objTruth={'type':classType,'position':position}\n",
    "            \n",
    "            singleTruth.append(objTruth)\n",
    "        \n",
    "        #print(singleTruth)\n",
    "        groundTruth.append(singleTruth)\n",
    "        \n",
    "        \n",
    "        with open(curDir+fileNameM+\".json\",'r') as jsonFile:\n",
    "            load_dict = json.load(jsonFile)\n",
    "        \n",
    "        singlePre=[]\n",
    "        if len(load_dict)==0:\n",
    "            singlePre=[{'type':0, 'confidence':1,'position':[]}]\n",
    "        else:\n",
    "            for i in range(0,len(load_dict)):\n",
    "               \n",
    "                if load_dict[i][0]=='face_mask':\n",
    "                    preObjResult={'type':1, 'confidence':load_dict[i][1],'position':[load_dict[i][2][0]/width,load_dict[i][2][1]/height,load_dict[i][2][2]/width,load_dict[i][2][3]/height]}\n",
    "                elif load_dict[i][0]=='face':\n",
    "                    preObjResult={'type':2, 'confidence':load_dict[i][1],'position':[load_dict[i][2][0]/width,load_dict[i][2][1]/height,load_dict[i][2][2]/width,load_dict[i][2][3]/height]}\n",
    "                else:\n",
    "                    preObjResult={'type':0, 'confidence':load_dict[i][1],'position':[load_dict[i][2][0]/width,load_dict[i][2][1]/height,load_dict[i][2][2]/width,load_dict[i][2][3]/height]}\n",
    "                    \n",
    "\n",
    "                singlePre.append(preObjResult)\n",
    "        \n",
    "        \n",
    "        #print(singlePre)\n",
    "        predict.append(singlePre)\n",
    "        \n",
    "        findImg=[]\n",
    "        for i in range(0,len(singlePre)):\n",
    "            findImg.append(singlePre[i]['type'])\n",
    "            if singlePre[i]['confidence']<0.5:\n",
    "                nonSense=1\n",
    "                #print(singlePre[i])\n",
    "        if len(set(findImg))>1:\n",
    "            #print(fileNameM)\n",
    "            #print(findImg)\n",
    "            nonSense=1\n",
    "       \n",
    "        \n",
    "for i in range(0,len(groundTruth)):\n",
    "    for j in range(0,len(groundTruth[i])):\n",
    "        if predict[i][0]['type']==0:\n",
    "            groundTruth[i][j]['predict']=0\n",
    "            groundTruth[i][j]['confidence']=1\n",
    "        else:\n",
    "            flag=1\n",
    "            for k in range(0,len(predict[i])):\n",
    "                if checkSameObject(groundTruth[i][j],predict[i][k],checkLimit):\n",
    "                    flag=0\n",
    "                    groundTruth[i][j]['predict']=predict[i][k]['type']\n",
    "                    groundTruth[i][j]['confidence']=predict[i][k]['confidence']\n",
    "                    predict[i][k]['groundTruth']=groundTruth[i][j]['type']\n",
    "                    break\n",
    "            if flag:\n",
    "                groundTruth[i][j]['predict']=0\n",
    "                groundTruth[i][j]['confidence']=1\n",
    "\n",
    "\n",
    "    for p in range(0,len(predict[i])):\n",
    "        if not 'groundTruth' in predict[i][p].keys():\n",
    "            #print(p)\n",
    "            #print(groundTruth[i])\n",
    "            #print(predict[i])\n",
    "            predict[i][p]['groundTruth']=0\n",
    "            "
   ]
  },
  {
   "cell_type": "code",
   "execution_count": 568,
   "metadata": {
    "scrolled": true
   },
   "outputs": [
    {
     "name": "stdout",
     "output_type": "stream",
     "text": [
      "[{'type': 2, 'confidence': 0.9947526454925537, 'position': [0.6893884539604187, 0.33573398399080157, 0.23601393401622772, 0.44143340584205115], 'groundTruth': 2}]\n",
      "[{'type': 2, 'position': [0.6845703125, 0.35765379113018597, 0.216796875, 0.44635193133047213], 'predict': 2, 'confidence': 0.9947526454925537}]\n"
     ]
    }
   ],
   "source": [
    "i=1\n",
    "print(predict[i])\n",
    "print(groundTruth[i])"
   ]
  },
  {
   "cell_type": "code",
   "execution_count": 569,
   "metadata": {},
   "outputs": [],
   "source": [
    "threshold=0.9\n"
   ]
  },
  {
   "cell_type": "code",
   "execution_count": 570,
   "metadata": {},
   "outputs": [
    {
     "name": "stdout",
     "output_type": "stream",
     "text": [
      "{'precision': 0.9282178217821783, 'recall': 0.7232401157184185, 'precision_recog': 0.9778357235984355, 'recall_recog': 0.97911227154047, 'recogRate': 0.7386692381870781}\n",
      "{'precision': 0.9486377847253238, 'recall': 0.729145211122554, 'precision_recog': 0.9884892086330935, 'recall_recog': 0.9877785765636233, 'recogRate': 0.7414712153518124}\n",
      "{'TPR': 0.97911227154047, 'FPR': 0.012221423436376708, 'accuracy_recog': 0.9847009735744089, 'accuracy': 0.729145211122554, 'recogRate': 0.7404737384140062}\n",
      "{'recognized1': 967, 'recognized2': 1830, 'correctType1': 750, 'correctType2': 1396, 'misClass1to2': 217, 'misClass2to1': 434, 'unRecognize1': 74, 'unRecognize2': 68, 'TPR': 0.7755946225439504, 'FPR': 0.2371584699453552, 'accuracy': 0.7672506256703611, 'precision': 0.5353319057815846, 'recall': 0.7755946225439504, 'recogRate': 0.9516842463422933}\n"
     ]
    }
   ],
   "source": [
    "threshold=0.9\n",
    "results=precisionCal(threshold)\n",
    "temp=recallCal(threshold)\n",
    "results['unRecognize1']=temp['unRecognize1']\n",
    "results['unRecognize2']=temp['unRecognize2']\n",
    "\n",
    "class1Results={}\n",
    "class2Results={}\n",
    "bothResult={}\n",
    "\n",
    "class1Results['precision']=results['correctType1']/(results['correctType1']+results['misClass2to1']+results['wrongAdd1'])\n",
    "class1Results['recall']=results['correctType1']/(results['correctType1']+results['misClass1to2']+results['unRecognize1'])\n",
    "class1Results['precision_recog']=results['correctType1']/(results['correctType1']+results['misClass2to1'])\n",
    "class1Results['recall_recog']=results['correctType1']/(results['correctType1']+results['misClass1to2'])\n",
    "class1Results['recogRate']=(results['correctType1']+results['misClass1to2'])/(results['correctType1']+results['misClass1to2']+results['unRecognize1'])\n",
    "\n",
    "\n",
    "class2Results['precision']=results['correctType2']/(results['correctType2']+results['misClass1to2']+results['wrongAdd2'])\n",
    "class2Results['recall']=results['correctType2']/(results['correctType2']+results['misClass2to1']+results['unRecognize2'])\n",
    "class2Results['precision_recog']=results['correctType2']/(results['correctType2']+results['misClass1to2'])\n",
    "class2Results['recall_recog']=results['correctType2']/(results['correctType2']+results['misClass2to1'])\n",
    "class2Results['recogRate']=(results['correctType2']+results['misClass2to1'])/(results['correctType2']+results['misClass2to1']+results['unRecognize2'])\n",
    "\n",
    "\n",
    "\n",
    "bothResult['TPR']=(results['correctType1'])/(results['correctType1']+results['misClass1to2'])\n",
    "bothResult['FPR']=(results['misClass2to1'])/(results['correctType2']+results['misClass2to1'])\n",
    "bothResult['accuracy_recog']=(results['correctType1']+results['correctType2'])/(results['correctType1']+results['misClass1to2']+results['correctType2']+results['misClass2to1'])\n",
    "bothResult['accuracy']=(results['correctType1']+results['correctType2'])/(results['correctType1']+results['misClass1to2']+results['unRecognize1']+results['correctType2']+results['misClass2to1']+results['unRecognize2'])\n",
    "bothResult['recogRate']=(results['correctType1']+results['misClass1to2']+results['correctType2']+results['misClass2to1'])/(results['correctType1']+results['misClass1to2']+results['unRecognize1']+results['correctType2']+results['misClass2to1']+results['unRecognize2'])\n",
    "class2Results['precision']=(results['correctType2']+results['correctType1'])/(results['correctType2']+results['misClass1to2']+results['wrongAdd2']+results['correctType1']+results['misClass2to1']+results['wrongAdd1'])\n",
    "class2Results['recall']=(results['correctType2']+results['correctType1'])/(results['correctType2']+results['misClass2to1']+results['unRecognize2']+results['correctType1']+results['misClass1to2']+results['unRecognize1'])\n",
    "\n",
    "print(class1Results)\n",
    "print(class2Results)\n",
    "print(bothResult)\n",
    "\n",
    "\n",
    "\n",
    "pipeLineResult=recallAllCal(threshold)\n",
    "pipeLineResult['TPR']=pipeLineResult['correctType1']/pipeLineResult['recognized1']\n",
    "pipeLineResult['FPR']=pipeLineResult['misClass2to1']/pipeLineResult['recognized2']\n",
    "pipeLineResult['accuracy']=(pipeLineResult['correctType1']+pipeLineResult['correctType2'])/(pipeLineResult['recognized1']+pipeLineResult['recognized2'])\n",
    "pipeLineResult['precision']=pipeLineResult['correctType1']/(pipeLineResult['recognized1']+pipeLineResult['misClass2to1'])\n",
    "pipeLineResult['recall']=pipeLineResult['correctType1']/pipeLineResult['recognized1']\n",
    "pipeLineResult['recogRate']=(pipeLineResult['recognized1']+pipeLineResult['recognized2'])/(pipeLineResult['recognized1']+pipeLineResult['recognized2']+pipeLineResult['unRecognize1']+pipeLineResult['unRecognize2'])\n",
    "\n",
    "print(pipeLineResult)\n"
   ]
  },
  {
   "cell_type": "code",
   "execution_count": 618,
   "metadata": {},
   "outputs": [
    {
     "name": "stdout",
     "output_type": "stream",
     "text": [
      "{'wrong2': 0.09856153436334576, 'TPR': 0.961038961038961, 'FPR': 0.021399652978600348, 'accuracy_recog': 0.9724839803995476, 'accuracy': 0.8865979381443299, 'recogRate': 0.9116838487972508, 'precision': 0.9188034188034188, 'recall': 0.8865979381443299}\n"
     ]
    }
   ],
   "source": [
    "th=0.55\n",
    "print(calRate(th)[2])"
   ]
  },
  {
   "cell_type": "code",
   "execution_count": 571,
   "metadata": {},
   "outputs": [],
   "source": [
    "def calRate(threshold):\n",
    "\n",
    "    results=precisionCal(threshold)\n",
    "    temp=recallCal(threshold)\n",
    "    results['unRecognize1']=temp['unRecognize1']\n",
    "    results['unRecognize2']=temp['unRecognize2']\n",
    "\n",
    "    class1Results={}\n",
    "    class2Results={}\n",
    "    bothResult={}\n",
    "\n",
    "    class1Results['precision']=results['correctType1']/(results['correctType1']+results['misClass2to1']+results['wrongAdd1'])\n",
    "    class1Results['recall']=results['correctType1']/(results['correctType1']+results['misClass1to2']+results['unRecognize1'])\n",
    "    class1Results['precision_recog']=results['correctType1']/(results['correctType1']+results['misClass2to1'])\n",
    "    class1Results['recall_recog']=results['correctType1']/(results['correctType1']+results['misClass1to2'])\n",
    "    class1Results['recogRate']=(results['correctType1']+results['misClass1to2'])/(results['correctType1']+results['misClass1to2']+results['unRecognize1'])\n",
    "\n",
    "\n",
    "    class2Results['precision']=results['correctType2']/(results['correctType2']+results['misClass1to2']+results['wrongAdd2'])\n",
    "    class2Results['recall']=results['correctType2']/(results['correctType2']+results['misClass2to1']+results['unRecognize2'])\n",
    "    class2Results['precision_recog']=results['correctType2']/(results['correctType2']+results['misClass1to2'])\n",
    "    class2Results['recall_recog']=results['correctType2']/(results['correctType2']+results['misClass2to1'])\n",
    "    class2Results['recogRate']=(results['correctType2']+results['misClass2to1'])/(results['correctType2']+results['misClass2to1']+results['unRecognize2'])\n",
    "\n",
    "\n",
    "    bothResult['wrong2']=(results['misClass2to1']+results['unRecognize2'])/(results['correctType2']+results['misClass2to1']+results['unRecognize2'])\n",
    "    bothResult['TPR']=(results['correctType1'])/(results['correctType1']+results['misClass1to2'])\n",
    "    bothResult['FPR']=(results['misClass2to1'])/(results['correctType2']+results['misClass2to1'])\n",
    "    bothResult['accuracy_recog']=(results['correctType1']+results['correctType2'])/(results['correctType1']+results['misClass1to2']+results['correctType2']+results['misClass2to1'])\n",
    "    bothResult['accuracy']=(results['correctType1']+results['correctType2'])/(results['correctType1']+results['misClass1to2']+results['unRecognize1']+results['correctType2']+results['misClass2to1']+results['unRecognize2'])\n",
    "    bothResult['recogRate']=(results['correctType1']+results['misClass1to2']+results['correctType2']+results['misClass2to1'])/(results['correctType1']+results['misClass1to2']+results['unRecognize1']+results['correctType2']+results['misClass2to1']+results['unRecognize2'])\n",
    "    bothResult['precision']=(results['correctType2']+results['correctType1'])/(results['correctType2']+results['misClass1to2']+results['wrongAdd2']+results['correctType1']+results['misClass2to1']+results['wrongAdd1'])\n",
    "    bothResult['recall']=(results['correctType2']+results['correctType1'])/(results['correctType2']+results['misClass2to1']+results['unRecognize2']+results['correctType1']+results['misClass1to2']+results['unRecognize1'])\n",
    "\n",
    "    pipeLineResult=recallAllCal(threshold)\n",
    "    pipeLineResult['TPR']=pipeLineResult['correctType1']/pipeLineResult['recognized1']\n",
    "    pipeLineResult['FPR']=pipeLineResult['misClass2to1']/pipeLineResult['recognized2']\n",
    "    pipeLineResult['accuracy']=(pipeLineResult['correctType1']+pipeLineResult['correctType2'])/(pipeLineResult['recognized1']+pipeLineResult['recognized2'])\n",
    "    pipeLineResult['precision']=pipeLineResult['correctType1']/(pipeLineResult['correctType1']+pipeLineResult['misClass2to1'])\n",
    "    pipeLineResult['recall']=pipeLineResult['correctType1']/pipeLineResult['recognized1']\n",
    "    pipeLineResult['recogRate']=(pipeLineResult['recognized1']+pipeLineResult['recognized2'])/(pipeLineResult['recognized1']+pipeLineResult['recognized2']+pipeLineResult['unRecognize1']+pipeLineResult['unRecognize2'])\n",
    "\n",
    "    togeResult=recallAllTogeCal(threshold)\n",
    "    togeResult['TPR']=togeResult['correctType1']/togeResult['correctType1']+togeResult['misClass1to2']\n",
    "    togeResult['FPR']=togeResult['misClass2to1']/togeResult['correctType2']+togeResult['misClass2to1']\n",
    "    togeResult['accuracy']=(togeResult['correctType1']+togeResult['correctType2'])/(togeResult['recognized'])\n",
    "    togeResult['precision']=togeResult['correctType1']/(togeResult['correctType1']+togeResult['misClass2to1'])\n",
    "    togeResult['recall']=togeResult['correctType1']/(togeResult['correctType1']+togeResult['misClass1to2'])\n",
    "    togeResult['recogRate']=(togeResult['recognized'])/(togeResult['recognized']+togeResult['unRecognize'])\n",
    "\n",
    "\n",
    "    \n",
    "    return [class1Results,class2Results,bothResult,pipeLineResult,togeResult]\n",
    "\n"
   ]
  },
  {
   "cell_type": "code",
   "execution_count": 606,
   "metadata": {},
   "outputs": [],
   "source": [
    "precision=[]\n",
    "recall=[]\n",
    "thre=[]\n",
    "recogRate=[]\n",
    "wrong2=[]\n",
    "precision1=[]\n",
    "recall1=[]\n",
    "precision2=[]\n",
    "recall2=[]\n",
    "recogRate1=[]\n",
    "recogRate2=[]\n",
    "for i in range(0,100):\n",
    "    threshold=i/100\n",
    "    result=calRate(threshold)\n",
    "    \n",
    "    precision.append(result[0]['precision'])\n",
    "    recall.append(result[0]['recall'])\n",
    "    thre.append(threshold)\n",
    "    wrong2.append(result[2]['wrong2'])\n",
    "    \n",
    "    \n",
    "    precision1.append(result[0]['precision'])\n",
    "    recall1.append(result[0]['recall'])\n",
    "    \n",
    "    precision2.append(result[1]['precision'])\n",
    "    recall2.append(result[1]['recall'])\n",
    "    \n",
    "    recogRate1.append(result[0]['recogRate'])\n",
    "    recogRate2.append(result[1]['recogRate'])\n",
    "    recogRate.append(result[2]['recogRate'])\n",
    "    \n",
    "    \n",
    "    #print(result[4])"
   ]
  },
  {
   "cell_type": "code",
   "execution_count": 616,
   "metadata": {},
   "outputs": [
    {
     "data": {
      "text/plain": [
       "<Figure size 576x432 with 0 Axes>"
      ]
     },
     "metadata": {},
     "output_type": "display_data"
    },
    {
     "data": {
      "image/png": "[encoded data removed]",
      "text/plain": [
       "<Figure size 360x360 with 1 Axes>"
      ]
     },
     "metadata": {
      "needs_background": "light"
     },
     "output_type": "display_data"
    }
   ],
   "source": [
    "import matplotlib.pyplot as plt\n",
    "plt.figure()\n",
    "\n",
    "plt.figure(figsize=(5,5))\n",
    "#plt.plot(thre, wrong2, color='darkorange',label='Unrecognized without mask') \n",
    "#plt.plot(thre, precision1, color='green',label='Correctly recognized with mask') \n",
    "plt.plot(recall1, precision1, label='with mask') #color='blue',\n",
    "plt.plot(recall2, precision2, label='without mask') #color='orange',\n",
    "plt.xlabel('Recall')\n",
    "plt.ylabel('Precision')\n",
    "plt.title('Precision-Recall')\n",
    "plt.legend()\n",
    "plt.show()\n",
    "\n"
   ]
  },
  {
   "cell_type": "code",
   "execution_count": 615,
   "metadata": {},
   "outputs": [
    {
     "data": {
      "text/plain": [
       "<Figure size 576x432 with 0 Axes>"
      ]
     },
     "metadata": {},
     "output_type": "display_data"
    },
    {
     "data": {
      "image/png": "[encoded data removed]",
      "text/plain": [
       "<Figure size 360x360 with 1 Axes>"
      ]
     },
     "metadata": {
      "needs_background": "light"
     },
     "output_type": "display_data"
    }
   ],
   "source": [
    "import matplotlib.pyplot as plt\n",
    "plt.figure()\n",
    "\n",
    "plt.figure(figsize=(5,5))\n",
    "#plt.plot(thre, wrong2, color='darkorange',label='Unrecognized without mask') \n",
    "#plt.plot(thre, precision1, color='green',label='Correctly recognized with mask') \n",
    "plt.plot(thre, recogRate1,label='with mask') # color='blue',\n",
    "plt.plot(thre, recogRate2, label='without mask') #color='orange',\n",
    "plt.plot(thre, recogRate, label='Overall') #color='red',\n",
    "plt.xlabel('Threshold')\n",
    "plt.ylabel('Recognized rate')\n",
    "plt.title('Recognized rate - threshold')\n",
    "plt.legend()\n",
    "plt.show()\n",
    "\n",
    "\n"
   ]
  },
  {
   "cell_type": "code",
   "execution_count": 614,
   "metadata": {},
   "outputs": [
    {
     "name": "stderr",
     "output_type": "stream",
     "text": [
      "No handles with labels found to put in legend.\n"
     ]
    },
    {
     "data": {
      "text/plain": [
       "<Figure size 576x432 with 0 Axes>"
      ]
     },
     "metadata": {},
     "output_type": "display_data"
    },
    {
     "data": {
      "image/png": "[encoded data removed]",
      "text/plain": [
       "<Figure size 360x360 with 1 Axes>"
      ]
     },
     "metadata": {
      "needs_background": "light"
     },
     "output_type": "display_data"
    }
   ],
   "source": [
    "import matplotlib.pyplot as plt\n",
    "plt.figure()\n",
    "\n",
    "plt.figure(figsize=(5,5))\n",
    "#plt.plot(thre, wrong2, color='darkorange',label='Unrecognized without mask') \n",
    "#plt.plot(thre, precision1, color='green',label='Correctly recognized with mask') \n",
    "plt.plot(wrong2, precision1) \n",
    "plt.xlabel('Unrecognize rate (without mask)')\n",
    "plt.ylabel('Precision (with mask)')\n",
    "plt.title('Essential Criteria')\n",
    "plt.legend()\n",
    "plt.show()\n"
   ]
  },
  {
   "cell_type": "code",
   "execution_count": 589,
   "metadata": {},
   "outputs": [
    {
     "name": "stdout",
     "output_type": "stream",
     "text": [
      "0.8971774193548387\n",
      "0.09105431309904154\n"
     ]
    }
   ],
   "source": [
    "print(calRate(0.5)[0]['precision'])\n",
    "print(calRate(0.5)[2]['wrong2'])"
   ]
  },
  {
   "cell_type": "code",
   "execution_count": 590,
   "metadata": {},
   "outputs": [
    {
     "name": "stdout",
     "output_type": "stream",
     "text": [
      "0.9045174537987679\n",
      "0.10862619808306709\n"
     ]
    }
   ],
   "source": [
    "print(calRate(0.6)[0]['precision'])\n",
    "print(calRate(0.6)[2]['wrong2'])"
   ]
  },
  {
   "cell_type": "code",
   "execution_count": null,
   "metadata": {},
   "outputs": [],
   "source": []
  }
 ],
 "metadata": {
  "kernelspec": {
   "display_name": "Python 3",
   "language": "python",
   "name": "python3"
  },
  "language_info": {
   "codemirror_mode": {
    "name": "ipython",
    "version": 3
   },
   "file_extension": ".py",
   "mimetype": "text/x-python",
   "name": "python",
   "nbconvert_exporter": "python",
   "pygments_lexer": "ipython3",
   "version": "3.7.4"
  }
 },
 "nbformat": 4,
 "nbformat_minor": 2
}
